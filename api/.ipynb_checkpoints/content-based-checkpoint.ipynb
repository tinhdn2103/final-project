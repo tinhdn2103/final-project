{
 "cells": [
  {
   "cell_type": "code",
   "execution_count": 1,
   "id": "c428b626",
   "metadata": {},
   "outputs": [],
   "source": [
    "import pandas as pd \n",
    "import numpy as np \n",
    "from sklearn.feature_extraction.text import TfidfVectorizer\n",
    "from pymongo import MongoClient\n",
    "import pickle\n",
    "\n",
    "client = MongoClient('mongodb://localhost:27017/')\n",
    "db = client['movie-web']\n",
    "col_movies = db['movies']\n",
    "cur_movies = col_movies.find()\n",
    "col_actormovies = db['actormovies']\n",
    "cur_actormovies = col_actormovies.find()\n",
    "col_actors = db['actors']\n",
    "cur_actors = col_actors.find()\n",
    "list_movies = []\n",
    "list_actormovies = []\n",
    "list_actors = []\n",
    "for i in cur_movies:\n",
    "    list_movies.append(i)\n",
    "for i in cur_actormovies:\n",
    "    list_actormovies.append(i)\n",
    "for i in cur_actors:\n",
    "    list_actors.append(i)\n",
    "movies = pd.DataFrame(list_movies)\n",
    "actormovies = pd.DataFrame(list_actormovies)\n",
    "actors = pd.DataFrame(list_actors)\n",
    "movies = movies.drop(['img', 'imgTitle', 'createdAt', 'updatedAt', 'trailer', 'year', 'limit', 'isSeries', '__v', 'numRate', 'rate', 'duration', 'countView', 'epNum'], axis=1)\n",
    "\n",
    "df = pd.merge(actormovies[['movie', 'actor', 'character']],actors[['_id','name']],left_on='actor', right_on='_id', how='left').drop(columns = ['_id'])\n",
    "df2 = pd.merge(movies, df, left_on='_id', right_on='movie', how='left').drop(columns = ['movie', 'actor'])\n",
    "df2 = df2.fillna('')\n",
    "df2 = df2.groupby('_id').agg({'title':'first', \n",
    "                              'desc':'first',\n",
    "                              'genre':'first',\n",
    "                             'character': ' '.join, \n",
    "                             'name': ' '.join,  }).reset_index()\n",
    "\n",
    "df2['tags'] = df2['title'] + ' ' + df2['desc'] + ' ' + df2['genre'] + ' ' + df2['character'] + ' ' + df2['name']\n",
    "\n",
    "tfidf = TfidfVectorizer(stop_words='english')\n",
    "tfidf_matrix = tfidf.fit_transform(df2['tags'])\n",
    "\n",
    "with open('vectorizer.pk', 'wb') as fin:\n",
    "    pickle.dump(tfidf, fin)\n",
    "    pickle.dump(tfidf_matrix, fin)\n",
    "    pickle.dump(df2['_id'], fin)"
   ]
  },
  {
   "cell_type": "code",
   "execution_count": 2,
   "id": "f46eff35",
   "metadata": {},
   "outputs": [
    {
     "data": {
      "text/plain": [
       "['Doctor Strange in Multiverse of Madness',\n",
       " 'Stranger Things 4',\n",
       " 'Inside Out',\n",
       " 'Death on the Nile',\n",
       " 'Coco',\n",
       " 'Nope']"
      ]
     },
     "execution_count": 2,
     "metadata": {},
     "output_type": "execute_result"
    }
   ],
   "source": [
    "# def get_recommendations(title):\n",
    "\n",
    "#     df3 = pd.concat([df2['tags'], pd.Series([title])], ignore_index = True)\n",
    "    \n",
    "#     tfidf = TfidfVectorizer(stop_words='english')\n",
    "\n",
    "#     tfidf_matrix = tfidf.fit_transform(df3)\n",
    "    \n",
    "#     cosine_sim = linear_kernel(tfidf_matrix[df3.index.max()], tfidf_matrix)\n",
    "    \n",
    "#     sim_scores = list(enumerate(cosine_sim[0]))\n",
    "#     sim_scores = sim_scores[:-1]\n",
    "#     sim_scores = sorted(sim_scores, key=lambda x: x[1], reverse=True)\n",
    "\n",
    "#     sim_scores = sim_scores[0:10]\n",
    "\n",
    "#     movie_indices = [i[0] for i in sim_scores]\n",
    "\n",
    "#     return df2['title'].iloc[movie_indices].astype('string')\n",
    "\n",
    "# list(get_recommendations('hoạt hình'))\n",
    "from sklearn.metrics.pairwise import linear_kernel\n",
    "import pickle\n",
    "from sklearn.decomposition import TruncatedSVD\n",
    "from scipy import sparse\n",
    "\n",
    "with open('vectorizer.pk', 'rb') as fin:\n",
    "    vectorizer = pickle.load(fin)\n",
    "    matrix_tfidf = pickle.load(fin)\n",
    "    df = pickle.load(fin)\n",
    "\n",
    "def get_recommendations(title):\n",
    "    m_new = sparse.vstack((matrix_tfidf, vectorizer.transform([title])))\n",
    "    svd = TruncatedSVD(n_components=10)\n",
    "    svd.fit(m_new)\n",
    "    svd_tfidf_vector = svd.transform(m_new)\n",
    "    svd_query = np.reshape(svd_tfidf_vector[-1],(1,svd_tfidf_vector[-1].size))\n",
    "    cosine_sim = linear_kernel(svd_query, svd_tfidf_vector)\n",
    "    sim_scores = list(enumerate(cosine_sim[0]))\n",
    "    sim_scores = sim_scores[:-1]\n",
    "    sim_scores = sorted(sim_scores, key=lambda x: x[1], reverse=True)\n",
    "    sim_scores = sim_scores[0:10]\n",
    "    movie_indices = [i[0] for i in sim_scores]\n",
    "    return df2['title'].iloc[movie_indices].astype('string')\n",
    "list(get_recommendations('Phù thủy Stranger'))"
   ]
  },
  {
   "cell_type": "code",
   "execution_count": 3,
   "id": "a7dd045d",
   "metadata": {},
   "outputs": [
    {
     "data": {
      "text/html": [
       "<div>\n",
       "<style scoped>\n",
       "    .dataframe tbody tr th:only-of-type {\n",
       "        vertical-align: middle;\n",
       "    }\n",
       "\n",
       "    .dataframe tbody tr th {\n",
       "        vertical-align: top;\n",
       "    }\n",
       "\n",
       "    .dataframe thead th {\n",
       "        text-align: right;\n",
       "    }\n",
       "</style>\n",
       "<table border=\"1\" class=\"dataframe\">\n",
       "  <thead>\n",
       "    <tr style=\"text-align: right;\">\n",
       "      <th></th>\n",
       "      <th>movie</th>\n",
       "      <th>user</th>\n",
       "      <th>rating</th>\n",
       "    </tr>\n",
       "  </thead>\n",
       "  <tbody>\n",
       "    <tr>\n",
       "      <th>0</th>\n",
       "      <td>633dc3b4f611a788116b43d8</td>\n",
       "      <td>633e8ba2bc3a40391db45a5c</td>\n",
       "      <td>5</td>\n",
       "    </tr>\n",
       "    <tr>\n",
       "      <th>1</th>\n",
       "      <td>633dc3b4f611a788116b43d8</td>\n",
       "      <td>633e900bbc3a40391db45a7f</td>\n",
       "      <td>5</td>\n",
       "    </tr>\n",
       "    <tr>\n",
       "      <th>2</th>\n",
       "      <td>633dc52cf611a788116b43dc</td>\n",
       "      <td>633b30e4edfee7840d1006c6</td>\n",
       "      <td>4</td>\n",
       "    </tr>\n",
       "    <tr>\n",
       "      <th>3</th>\n",
       "      <td>633dc52cf611a788116b43dc</td>\n",
       "      <td>633e8ba2bc3a40391db45a5c</td>\n",
       "      <td>5</td>\n",
       "    </tr>\n",
       "    <tr>\n",
       "      <th>4</th>\n",
       "      <td>633dd3e4f611a788116b43e7</td>\n",
       "      <td>633e8ba2bc3a40391db45a5c</td>\n",
       "      <td>2</td>\n",
       "    </tr>\n",
       "    <tr>\n",
       "      <th>5</th>\n",
       "      <td>633dd3e4f611a788116b43e7</td>\n",
       "      <td>633b30e4edfee7840d1006c6</td>\n",
       "      <td>2</td>\n",
       "    </tr>\n",
       "    <tr>\n",
       "      <th>6</th>\n",
       "      <td>633dc52cf611a788116b43dc</td>\n",
       "      <td>633e900bbc3a40391db45a7f</td>\n",
       "      <td>3</td>\n",
       "    </tr>\n",
       "    <tr>\n",
       "      <th>7</th>\n",
       "      <td>6354ebb6c834f95698ef02ca</td>\n",
       "      <td>633e8ba2bc3a40391db45a5c</td>\n",
       "      <td>2</td>\n",
       "    </tr>\n",
       "    <tr>\n",
       "      <th>8</th>\n",
       "      <td>6354ec56c834f95698ef02cd</td>\n",
       "      <td>633e8ba2bc3a40391db45a5c</td>\n",
       "      <td>5</td>\n",
       "    </tr>\n",
       "  </tbody>\n",
       "</table>\n",
       "</div>"
      ],
      "text/plain": [
       "                      movie                      user  rating\n",
       "0  633dc3b4f611a788116b43d8  633e8ba2bc3a40391db45a5c       5\n",
       "1  633dc3b4f611a788116b43d8  633e900bbc3a40391db45a7f       5\n",
       "2  633dc52cf611a788116b43dc  633b30e4edfee7840d1006c6       4\n",
       "3  633dc52cf611a788116b43dc  633e8ba2bc3a40391db45a5c       5\n",
       "4  633dd3e4f611a788116b43e7  633e8ba2bc3a40391db45a5c       2\n",
       "5  633dd3e4f611a788116b43e7  633b30e4edfee7840d1006c6       2\n",
       "6  633dc52cf611a788116b43dc  633e900bbc3a40391db45a7f       3\n",
       "7  6354ebb6c834f95698ef02ca  633e8ba2bc3a40391db45a5c       2\n",
       "8  6354ec56c834f95698ef02cd  633e8ba2bc3a40391db45a5c       5"
      ]
     },
     "execution_count": 3,
     "metadata": {},
     "output_type": "execute_result"
    }
   ],
   "source": [
    "userratings = db['userratings']\n",
    "cursor = userratings.find()\n",
    "list_cur = []\n",
    "for i in cursor:\n",
    "    list_cur.append(i)\n",
    "ratings = pd.DataFrame(list_cur)\n",
    "ratings = ratings.drop(['_id', '__v', 'createdAt', 'updatedAt'], axis=1)\n",
    "ratings"
   ]
  },
  {
   "cell_type": "code",
   "execution_count": 6,
   "id": "6a2f36f5",
   "metadata": {},
   "outputs": [
    {
     "name": "stdout",
     "output_type": "stream",
     "text": [
      "[0 3 4 7 8]\n"
     ]
    },
    {
     "data": {
      "text/plain": [
       "(0    633dc3b4f611a788116b43d8\n",
       " 3    633dc52cf611a788116b43dc\n",
       " 4    633dd3e4f611a788116b43e7\n",
       " 7    6354ebb6c834f95698ef02ca\n",
       " 8    6354ec56c834f95698ef02cd\n",
       " Name: movie, dtype: string,\n",
       " 0    5\n",
       " 3    5\n",
       " 4    2\n",
       " 7    2\n",
       " 8    5\n",
       " Name: rating, dtype: int64)"
      ]
     },
     "execution_count": 6,
     "metadata": {},
     "output_type": "execute_result"
    }
   ],
   "source": [
    "def get_items_rated_by_user(user_id):\n",
    "    y = ratings.iloc[:,1].astype('string')\n",
    "    ids = np.where(y == user_id)[0]\n",
    "    item_ids = ratings.iloc[ids, 0].astype('string')\n",
    "    scores = ratings.iloc[ids, 2]\n",
    "    return (item_ids, scores)\n",
    "get_items_rated_by_user('633e8ba2bc3a40391db45a5c')"
   ]
  },
  {
   "cell_type": "code",
   "execution_count": 10,
   "id": "d4fa0ca4",
   "metadata": {},
   "outputs": [
    {
     "data": {
      "text/plain": [
       "Int64Index([1, 6], dtype='int64')"
      ]
     },
     "execution_count": 10,
     "metadata": {},
     "output_type": "execute_result"
    }
   ],
   "source": [
    "transformer = TfidfTransformer(smooth_idf=True, norm ='l2')\n",
    "        tfidf = transformer.fit_transform(self.X_train.tolist()).toarray()\n",
    "        d = tfidf.shape[1] # data dimension\n",
    "        W = np.zeros((d, self.n_users))\n",
    "        b = np.zeros((1, self.n_users))\n",
    "        for n in range(self.n_users):    \n",
    "            ids, scores = get_items_rated_by_user(self.Y, n)\n",
    "            clf = Ridge(alpha= self.lamda, fit_intercept  = True)\n",
    "            Xhat = tfidf[ids, :]\n",
    "\n",
    "            clf.fit(Xhat, scores) \n",
    "            W[:, n] = clf.coef_\n",
    "            b[0, n] = clf.intercept_\n",
    "        self.Yhat = tfidf.dot(W) + b"
   ]
  },
  {
   "cell_type": "code",
   "execution_count": 7,
   "id": "fba7d792",
   "metadata": {},
   "outputs": [
    {
     "name": "stdout",
     "output_type": "stream",
     "text": [
      "[0 3 4 7 8]\n",
      "0    633dc3b4f611a788116b43d8\n",
      "3    633dc52cf611a788116b43dc\n",
      "4    633dd3e4f611a788116b43e7\n",
      "7    6354ebb6c834f95698ef02ca\n",
      "8    6354ec56c834f95698ef02cd\n",
      "Name: movie, dtype: string\n",
      "[1 6]\n",
      "1    633dc3b4f611a788116b43d8\n",
      "6    633dc52cf611a788116b43dc\n",
      "Name: movie, dtype: string\n",
      "[2 5]\n",
      "2    633dc52cf611a788116b43dc\n",
      "5    633dd3e4f611a788116b43e7\n",
      "Name: movie, dtype: string\n"
     ]
    }
   ],
   "source": [
    "from sklearn.linear_model import Ridge\n",
    "from sklearn import linear_model\n",
    "svd = TruncatedSVD(n_components=10)\n",
    "svd.fit(matrix_tfidf)\n",
    "svd_tfidf_vector = svd.transform(matrix_tfidf)\n",
    "d = svd_tfidf_vector.shape[1] \n",
    "users = ratings['user'].astype('string').unique()\n",
    "W = np.zeros((d, users.size))\n",
    "b = np.zeros((1, users.size))\n",
    "df = pd.DataFrame(df)\n",
    "for n in users:    \n",
    "    ids, scores = get_items_rated_by_user(n)\n",
    "    ids = ids.iloc[:, 1]\n",
    "    clf = Ridge(alpha = 7, fit_intercept  = True)\n",
    "#     ids_items = df.index[df['_id'].astype('string') == ids].tolist()\n",
    "#     Xhat = svd_tfidf_vector[ids_items, :]\n",
    "    print(ids)\n",
    "    "
   ]
  },
  {
   "cell_type": "code",
   "execution_count": null,
   "id": "1ad81968",
   "metadata": {},
   "outputs": [],
   "source": [
    "df."
   ]
  },
  {
   "cell_type": "code",
   "execution_count": 51,
   "id": "c2e4deda",
   "metadata": {},
   "outputs": [
    {
     "data": {
      "text/html": [
       "<div>\n",
       "<style scoped>\n",
       "    .dataframe tbody tr th:only-of-type {\n",
       "        vertical-align: middle;\n",
       "    }\n",
       "\n",
       "    .dataframe tbody tr th {\n",
       "        vertical-align: top;\n",
       "    }\n",
       "\n",
       "    .dataframe thead th {\n",
       "        text-align: right;\n",
       "    }\n",
       "</style>\n",
       "<table border=\"1\" class=\"dataframe\">\n",
       "  <thead>\n",
       "    <tr style=\"text-align: right;\">\n",
       "      <th></th>\n",
       "      <th>_id</th>\n",
       "    </tr>\n",
       "  </thead>\n",
       "  <tbody>\n",
       "    <tr>\n",
       "      <th>0</th>\n",
       "      <td>633dc3b4f611a788116b43d8</td>\n",
       "    </tr>\n",
       "    <tr>\n",
       "      <th>1</th>\n",
       "      <td>633dc52cf611a788116b43dc</td>\n",
       "    </tr>\n",
       "    <tr>\n",
       "      <th>2</th>\n",
       "      <td>633dd3e4f611a788116b43e7</td>\n",
       "    </tr>\n",
       "    <tr>\n",
       "      <th>3</th>\n",
       "      <td>6354e362c834f95698ef0221</td>\n",
       "    </tr>\n",
       "    <tr>\n",
       "      <th>4</th>\n",
       "      <td>6354ebb6c834f95698ef02ca</td>\n",
       "    </tr>\n",
       "    <tr>\n",
       "      <th>5</th>\n",
       "      <td>6354ec56c834f95698ef02cd</td>\n",
       "    </tr>\n",
       "  </tbody>\n",
       "</table>\n",
       "</div>"
      ],
      "text/plain": [
       "                        _id\n",
       "0  633dc3b4f611a788116b43d8\n",
       "1  633dc52cf611a788116b43dc\n",
       "2  633dd3e4f611a788116b43e7\n",
       "3  6354e362c834f95698ef0221\n",
       "4  6354ebb6c834f95698ef02ca\n",
       "5  6354ec56c834f95698ef02cd"
      ]
     },
     "execution_count": 51,
     "metadata": {},
     "output_type": "execute_result"
    }
   ],
   "source": []
  },
  {
   "cell_type": "code",
   "execution_count": null,
   "id": "0c38da6f",
   "metadata": {},
   "outputs": [],
   "source": []
  }
 ],
 "metadata": {
  "kernelspec": {
   "display_name": "Python 3 (ipykernel)",
   "language": "python",
   "name": "python3"
  },
  "language_info": {
   "codemirror_mode": {
    "name": "ipython",
    "version": 3
   },
   "file_extension": ".py",
   "mimetype": "text/x-python",
   "name": "python",
   "nbconvert_exporter": "python",
   "pygments_lexer": "ipython3",
   "version": "3.10.2"
  }
 },
 "nbformat": 4,
 "nbformat_minor": 5
}
