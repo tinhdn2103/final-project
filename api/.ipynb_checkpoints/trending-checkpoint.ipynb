{
 "cells": [
  {
   "cell_type": "code",
   "execution_count": 2,
   "id": "77b723dd",
   "metadata": {},
   "outputs": [
    {
     "data": {
      "text/html": [
       "<div>\n",
       "<style scoped>\n",
       "    .dataframe tbody tr th:only-of-type {\n",
       "        vertical-align: middle;\n",
       "    }\n",
       "\n",
       "    .dataframe tbody tr th {\n",
       "        vertical-align: top;\n",
       "    }\n",
       "\n",
       "    .dataframe thead th {\n",
       "        text-align: right;\n",
       "    }\n",
       "</style>\n",
       "<table border=\"1\" class=\"dataframe\">\n",
       "  <thead>\n",
       "    <tr style=\"text-align: right;\">\n",
       "      <th></th>\n",
       "      <th>_id</th>\n",
       "      <th>views</th>\n",
       "      <th>comments</th>\n",
       "      <th>numRate</th>\n",
       "      <th>rating</th>\n",
       "    </tr>\n",
       "  </thead>\n",
       "  <tbody>\n",
       "    <tr>\n",
       "      <th>0</th>\n",
       "      <td>633dd3e4f611a788116b43e7</td>\n",
       "      <td>3.0</td>\n",
       "      <td>1.0</td>\n",
       "      <td>2</td>\n",
       "      <td>2.0</td>\n",
       "    </tr>\n",
       "    <tr>\n",
       "      <th>1</th>\n",
       "      <td>633dc3b4f611a788116b43d8</td>\n",
       "      <td>2.0</td>\n",
       "      <td>2.0</td>\n",
       "      <td>2</td>\n",
       "      <td>5.0</td>\n",
       "    </tr>\n",
       "    <tr>\n",
       "      <th>2</th>\n",
       "      <td>633dc52cf611a788116b43dc</td>\n",
       "      <td>0.0</td>\n",
       "      <td>4.0</td>\n",
       "      <td>3</td>\n",
       "      <td>4.0</td>\n",
       "    </tr>\n",
       "    <tr>\n",
       "      <th>3</th>\n",
       "      <td>6354ebb6c834f95698ef02ca</td>\n",
       "      <td>0.0</td>\n",
       "      <td>0.0</td>\n",
       "      <td>1</td>\n",
       "      <td>1.0</td>\n",
       "    </tr>\n",
       "  </tbody>\n",
       "</table>\n",
       "</div>"
      ],
      "text/plain": [
       "                        _id  views  comments  numRate  rating\n",
       "0  633dd3e4f611a788116b43e7    3.0       1.0        2     2.0\n",
       "1  633dc3b4f611a788116b43d8    2.0       2.0        2     5.0\n",
       "2  633dc52cf611a788116b43dc    0.0       4.0        3     4.0\n",
       "3  6354ebb6c834f95698ef02ca    0.0       0.0        1     1.0"
      ]
     },
     "execution_count": 2,
     "metadata": {},
     "output_type": "execute_result"
    }
   ],
   "source": [
    "import pandas as pd\n",
    "import numpy as np\n",
    "from pymongo import MongoClient\n",
    "client = MongoClient('mongodb://localhost:27017/')\n",
    "db = client['movie-web']\n",
    "collection = db['movieStat']\n",
    "cursor = collection.find()\n",
    "list_cur = []\n",
    "for i in cursor:\n",
    "    list_cur.append(i)\n",
    "movies = pd.DataFrame(list_cur)\n",
    "movies.fillna(0, inplace=True)\n",
    "movies"
   ]
  },
  {
   "cell_type": "code",
   "execution_count": 3,
   "id": "69188e9a",
   "metadata": {},
   "outputs": [
    {
     "data": {
      "text/html": [
       "<div>\n",
       "<style scoped>\n",
       "    .dataframe tbody tr th:only-of-type {\n",
       "        vertical-align: middle;\n",
       "    }\n",
       "\n",
       "    .dataframe tbody tr th {\n",
       "        vertical-align: top;\n",
       "    }\n",
       "\n",
       "    .dataframe thead th {\n",
       "        text-align: right;\n",
       "    }\n",
       "</style>\n",
       "<table border=\"1\" class=\"dataframe\">\n",
       "  <thead>\n",
       "    <tr style=\"text-align: right;\">\n",
       "      <th></th>\n",
       "      <th>_id</th>\n",
       "      <th>views</th>\n",
       "      <th>comments</th>\n",
       "      <th>numRate</th>\n",
       "      <th>rating</th>\n",
       "      <th>rates</th>\n",
       "    </tr>\n",
       "  </thead>\n",
       "  <tbody>\n",
       "    <tr>\n",
       "      <th>0</th>\n",
       "      <td>633dd3e4f611a788116b43e7</td>\n",
       "      <td>3.0</td>\n",
       "      <td>1.0</td>\n",
       "      <td>2</td>\n",
       "      <td>2.0</td>\n",
       "      <td>4.0</td>\n",
       "    </tr>\n",
       "    <tr>\n",
       "      <th>1</th>\n",
       "      <td>633dc3b4f611a788116b43d8</td>\n",
       "      <td>2.0</td>\n",
       "      <td>2.0</td>\n",
       "      <td>2</td>\n",
       "      <td>5.0</td>\n",
       "      <td>10.0</td>\n",
       "    </tr>\n",
       "    <tr>\n",
       "      <th>2</th>\n",
       "      <td>633dc52cf611a788116b43dc</td>\n",
       "      <td>0.0</td>\n",
       "      <td>4.0</td>\n",
       "      <td>3</td>\n",
       "      <td>4.0</td>\n",
       "      <td>12.0</td>\n",
       "    </tr>\n",
       "    <tr>\n",
       "      <th>3</th>\n",
       "      <td>6354ebb6c834f95698ef02ca</td>\n",
       "      <td>0.0</td>\n",
       "      <td>0.0</td>\n",
       "      <td>1</td>\n",
       "      <td>1.0</td>\n",
       "      <td>1.0</td>\n",
       "    </tr>\n",
       "  </tbody>\n",
       "</table>\n",
       "</div>"
      ],
      "text/plain": [
       "                        _id  views  comments  numRate  rating  rates\n",
       "0  633dd3e4f611a788116b43e7    3.0       1.0        2     2.0    4.0\n",
       "1  633dc3b4f611a788116b43d8    2.0       2.0        2     5.0   10.0\n",
       "2  633dc52cf611a788116b43dc    0.0       4.0        3     4.0   12.0\n",
       "3  6354ebb6c834f95698ef02ca    0.0       0.0        1     1.0    1.0"
      ]
     },
     "execution_count": 3,
     "metadata": {},
     "output_type": "execute_result"
    }
   ],
   "source": [
    "movies['rates'] = movies['numRate']*movies['rating']\n",
    "movies.head()"
   ]
  },
  {
   "cell_type": "code",
   "execution_count": 4,
   "id": "31bd292e",
   "metadata": {},
   "outputs": [
    {
     "data": {
      "text/html": [
       "<div>\n",
       "<style scoped>\n",
       "    .dataframe tbody tr th:only-of-type {\n",
       "        vertical-align: middle;\n",
       "    }\n",
       "\n",
       "    .dataframe tbody tr th {\n",
       "        vertical-align: top;\n",
       "    }\n",
       "\n",
       "    .dataframe thead th {\n",
       "        text-align: right;\n",
       "    }\n",
       "</style>\n",
       "<table border=\"1\" class=\"dataframe\">\n",
       "  <thead>\n",
       "    <tr style=\"text-align: right;\">\n",
       "      <th></th>\n",
       "      <th>views</th>\n",
       "      <th>comments</th>\n",
       "      <th>rates</th>\n",
       "    </tr>\n",
       "  </thead>\n",
       "  <tbody>\n",
       "    <tr>\n",
       "      <th>0</th>\n",
       "      <td>1.000000</td>\n",
       "      <td>0.25</td>\n",
       "      <td>0.272727</td>\n",
       "    </tr>\n",
       "    <tr>\n",
       "      <th>1</th>\n",
       "      <td>0.666667</td>\n",
       "      <td>0.50</td>\n",
       "      <td>0.818182</td>\n",
       "    </tr>\n",
       "    <tr>\n",
       "      <th>2</th>\n",
       "      <td>0.000000</td>\n",
       "      <td>1.00</td>\n",
       "      <td>1.000000</td>\n",
       "    </tr>\n",
       "    <tr>\n",
       "      <th>3</th>\n",
       "      <td>0.000000</td>\n",
       "      <td>0.00</td>\n",
       "      <td>0.000000</td>\n",
       "    </tr>\n",
       "  </tbody>\n",
       "</table>\n",
       "</div>"
      ],
      "text/plain": [
       "      views  comments     rates\n",
       "0  1.000000      0.25  0.272727\n",
       "1  0.666667      0.50  0.818182\n",
       "2  0.000000      1.00  1.000000\n",
       "3  0.000000      0.00  0.000000"
      ]
     },
     "execution_count": 4,
     "metadata": {},
     "output_type": "execute_result"
    }
   ],
   "source": [
    "df = movies[['views','comments', 'rates']].apply(lambda x:(x.astype(float) - min(x))/(max(x)-min(x)), axis = 0)\n",
    "df.head()"
   ]
  },
  {
   "cell_type": "code",
   "execution_count": 5,
   "id": "7b6010de",
   "metadata": {},
   "outputs": [
    {
     "data": {
      "text/plain": [
       "[{'movie': ObjectId('633dc52cf611a788116b43dc'),\n",
       "  'score': 2.0,\n",
       "  'timestamp': Timestamp('2022-10-26 08:32:24.038587+0000', tz='UTC')},\n",
       " {'movie': ObjectId('633dc3b4f611a788116b43d8'),\n",
       "  'score': 1.3638659320477502,\n",
       "  'timestamp': Timestamp('2022-10-26 08:32:24.038587+0000', tz='UTC')},\n",
       " {'movie': ObjectId('633dd3e4f611a788116b43e7'),\n",
       "  'score': 1.1368801652892562,\n",
       "  'timestamp': Timestamp('2022-10-26 08:32:24.038587+0000', tz='UTC')},\n",
       " {'movie': ObjectId('6354ebb6c834f95698ef02ca'),\n",
       "  'score': 0.0,\n",
       "  'timestamp': Timestamp('2022-10-26 08:32:24.038587+0000', tz='UTC')}]"
      ]
     },
     "execution_count": 5,
     "metadata": {},
     "output_type": "execute_result"
    }
   ],
   "source": [
    "movies['score'] = df['views'].pow(2) + df['comments'].pow(2) +  df['rates'].pow(2)\n",
    "df2 = movies.sort_values(by = 'score', ascending=False).head(10)\n",
    "df2 = df2.drop(df2.columns[[1, 2, 3, 4, 5]], axis=1)\n",
    "df2 = df2.rename({'_id': 'movie'}, axis=1)\n",
    "import datetime as dt\n",
    "df2['timestamp'] = dt.datetime.now(dt.timezone.utc)\n",
    "my_dict = df2.to_dict('records')\n",
    "my_dict"
   ]
  },
  {
   "cell_type": "code",
   "execution_count": 209,
   "id": "3c8e8f69",
   "metadata": {},
   "outputs": [
    {
     "data": {
      "text/plain": [
       "<pymongo.results.InsertManyResult at 0x1bbef851de0>"
      ]
     },
     "execution_count": 209,
     "metadata": {},
     "output_type": "execute_result"
    }
   ],
   "source": [
    "my_col = db['trending']\n",
    "ids = my_col.insert_many(my_dict)\n",
    "ids"
   ]
  },
  {
   "cell_type": "code",
   "execution_count": 6,
   "id": "96ae5dbf",
   "metadata": {},
   "outputs": [
    {
     "data": {
      "text/html": [
       "<div>\n",
       "<style scoped>\n",
       "    .dataframe tbody tr th:only-of-type {\n",
       "        vertical-align: middle;\n",
       "    }\n",
       "\n",
       "    .dataframe tbody tr th {\n",
       "        vertical-align: top;\n",
       "    }\n",
       "\n",
       "    .dataframe thead th {\n",
       "        text-align: right;\n",
       "    }\n",
       "</style>\n",
       "<table border=\"1\" class=\"dataframe\">\n",
       "  <thead>\n",
       "    <tr style=\"text-align: right;\">\n",
       "      <th></th>\n",
       "      <th>movie</th>\n",
       "      <th>score</th>\n",
       "      <th>timestamp</th>\n",
       "    </tr>\n",
       "  </thead>\n",
       "  <tbody>\n",
       "    <tr>\n",
       "      <th>2</th>\n",
       "      <td>633dc52cf611a788116b43dc</td>\n",
       "      <td>2.000000</td>\n",
       "      <td>2022-10-26 08:32:24.038587+00:00</td>\n",
       "    </tr>\n",
       "    <tr>\n",
       "      <th>1</th>\n",
       "      <td>633dc3b4f611a788116b43d8</td>\n",
       "      <td>1.363866</td>\n",
       "      <td>2022-10-26 08:32:24.038587+00:00</td>\n",
       "    </tr>\n",
       "    <tr>\n",
       "      <th>0</th>\n",
       "      <td>633dd3e4f611a788116b43e7</td>\n",
       "      <td>1.136880</td>\n",
       "      <td>2022-10-26 08:32:24.038587+00:00</td>\n",
       "    </tr>\n",
       "    <tr>\n",
       "      <th>3</th>\n",
       "      <td>6354ebb6c834f95698ef02ca</td>\n",
       "      <td>0.000000</td>\n",
       "      <td>2022-10-26 08:32:24.038587+00:00</td>\n",
       "    </tr>\n",
       "  </tbody>\n",
       "</table>\n",
       "</div>"
      ],
      "text/plain": [
       "                      movie     score                        timestamp\n",
       "2  633dc52cf611a788116b43dc  2.000000 2022-10-26 08:32:24.038587+00:00\n",
       "1  633dc3b4f611a788116b43d8  1.363866 2022-10-26 08:32:24.038587+00:00\n",
       "0  633dd3e4f611a788116b43e7  1.136880 2022-10-26 08:32:24.038587+00:00\n",
       "3  6354ebb6c834f95698ef02ca  0.000000 2022-10-26 08:32:24.038587+00:00"
      ]
     },
     "execution_count": 6,
     "metadata": {},
     "output_type": "execute_result"
    }
   ],
   "source": [
    "df2"
   ]
  },
  {
   "cell_type": "code",
   "execution_count": 8,
   "id": "5b03db5a",
   "metadata": {},
   "outputs": [],
   "source": [
    "df2.to_csv(r'C:\\Users\\english\\Documents\\FinalProject\\api\\trending.csv', index=False)"
   ]
  },
  {
   "cell_type": "code",
   "execution_count": 10,
   "id": "2ab28290",
   "metadata": {},
   "outputs": [
    {
     "data": {
      "text/html": [
       "<div>\n",
       "<style scoped>\n",
       "    .dataframe tbody tr th:only-of-type {\n",
       "        vertical-align: middle;\n",
       "    }\n",
       "\n",
       "    .dataframe tbody tr th {\n",
       "        vertical-align: top;\n",
       "    }\n",
       "\n",
       "    .dataframe thead th {\n",
       "        text-align: right;\n",
       "    }\n",
       "</style>\n",
       "<table border=\"1\" class=\"dataframe\">\n",
       "  <thead>\n",
       "    <tr style=\"text-align: right;\">\n",
       "      <th></th>\n",
       "      <th>movie</th>\n",
       "      <th>score</th>\n",
       "      <th>timestamp</th>\n",
       "    </tr>\n",
       "  </thead>\n",
       "  <tbody>\n",
       "    <tr>\n",
       "      <th>0</th>\n",
       "      <td>633dc52cf611a788116b43dc</td>\n",
       "      <td>2.000000</td>\n",
       "      <td>2022-10-26 08:32:24.038587+00:00</td>\n",
       "    </tr>\n",
       "    <tr>\n",
       "      <th>1</th>\n",
       "      <td>633dc3b4f611a788116b43d8</td>\n",
       "      <td>1.363866</td>\n",
       "      <td>2022-10-26 08:32:24.038587+00:00</td>\n",
       "    </tr>\n",
       "    <tr>\n",
       "      <th>2</th>\n",
       "      <td>633dd3e4f611a788116b43e7</td>\n",
       "      <td>1.136880</td>\n",
       "      <td>2022-10-26 08:32:24.038587+00:00</td>\n",
       "    </tr>\n",
       "    <tr>\n",
       "      <th>3</th>\n",
       "      <td>6354ebb6c834f95698ef02ca</td>\n",
       "      <td>0.000000</td>\n",
       "      <td>2022-10-26 08:32:24.038587+00:00</td>\n",
       "    </tr>\n",
       "  </tbody>\n",
       "</table>\n",
       "</div>"
      ],
      "text/plain": [
       "                      movie     score                         timestamp\n",
       "0  633dc52cf611a788116b43dc  2.000000  2022-10-26 08:32:24.038587+00:00\n",
       "1  633dc3b4f611a788116b43d8  1.363866  2022-10-26 08:32:24.038587+00:00\n",
       "2  633dd3e4f611a788116b43e7  1.136880  2022-10-26 08:32:24.038587+00:00\n",
       "3  6354ebb6c834f95698ef02ca  0.000000  2022-10-26 08:32:24.038587+00:00"
      ]
     },
     "execution_count": 10,
     "metadata": {},
     "output_type": "execute_result"
    }
   ],
   "source": [
    "trending_list = pd.read_csv('trending.csv')\n",
    "trending_list"
   ]
  },
  {
   "cell_type": "code",
   "execution_count": 11,
   "id": "11af2479",
   "metadata": {},
   "outputs": [
    {
     "data": {
      "text/plain": [
       "['633dc52cf611a788116b43dc',\n",
       " '633dc3b4f611a788116b43d8',\n",
       " '633dd3e4f611a788116b43e7',\n",
       " '6354ebb6c834f95698ef02ca']"
      ]
     },
     "execution_count": 11,
     "metadata": {},
     "output_type": "execute_result"
    }
   ],
   "source": [
    "result = trending_list['movie'].tolist()\n",
    "result"
   ]
  },
  {
   "cell_type": "code",
   "execution_count": 57,
   "id": "2fcbf302",
   "metadata": {},
   "outputs": [
    {
     "data": {
      "text/html": [
       "<div>\n",
       "<style scoped>\n",
       "    .dataframe tbody tr th:only-of-type {\n",
       "        vertical-align: middle;\n",
       "    }\n",
       "\n",
       "    .dataframe tbody tr th {\n",
       "        vertical-align: top;\n",
       "    }\n",
       "\n",
       "    .dataframe thead th {\n",
       "        text-align: right;\n",
       "    }\n",
       "</style>\n",
       "<table border=\"1\" class=\"dataframe\">\n",
       "  <thead>\n",
       "    <tr style=\"text-align: right;\">\n",
       "      <th></th>\n",
       "      <th>_id</th>\n",
       "      <th>comments</th>\n",
       "      <th>countviews</th>\n",
       "      <th>numRates</th>\n",
       "      <th>rating</th>\n",
       "    </tr>\n",
       "  </thead>\n",
       "  <tbody>\n",
       "    <tr>\n",
       "      <th>0</th>\n",
       "      <td>633dc3b4f611a788116b43d8</td>\n",
       "      <td>0</td>\n",
       "      <td>0</td>\n",
       "      <td>0</td>\n",
       "      <td>NaN</td>\n",
       "    </tr>\n",
       "    <tr>\n",
       "      <th>1</th>\n",
       "      <td>633dc52cf611a788116b43dc</td>\n",
       "      <td>0</td>\n",
       "      <td>0</td>\n",
       "      <td>0</td>\n",
       "      <td>NaN</td>\n",
       "    </tr>\n",
       "    <tr>\n",
       "      <th>2</th>\n",
       "      <td>633dd3e4f611a788116b43e7</td>\n",
       "      <td>0</td>\n",
       "      <td>0</td>\n",
       "      <td>0</td>\n",
       "      <td>NaN</td>\n",
       "    </tr>\n",
       "    <tr>\n",
       "      <th>3</th>\n",
       "      <td>6354e362c834f95698ef0221</td>\n",
       "      <td>0</td>\n",
       "      <td>0</td>\n",
       "      <td>0</td>\n",
       "      <td>NaN</td>\n",
       "    </tr>\n",
       "    <tr>\n",
       "      <th>4</th>\n",
       "      <td>6354ebb6c834f95698ef02ca</td>\n",
       "      <td>0</td>\n",
       "      <td>0</td>\n",
       "      <td>0</td>\n",
       "      <td>NaN</td>\n",
       "    </tr>\n",
       "    <tr>\n",
       "      <th>5</th>\n",
       "      <td>6354ec56c834f95698ef02cd</td>\n",
       "      <td>0</td>\n",
       "      <td>0</td>\n",
       "      <td>0</td>\n",
       "      <td>NaN</td>\n",
       "    </tr>\n",
       "    <tr>\n",
       "      <th>6</th>\n",
       "      <td>637a48a12d686b1096842328</td>\n",
       "      <td>0</td>\n",
       "      <td>0</td>\n",
       "      <td>0</td>\n",
       "      <td>NaN</td>\n",
       "    </tr>\n",
       "  </tbody>\n",
       "</table>\n",
       "</div>"
      ],
      "text/plain": [
       "                        _id  comments  countviews  numRates  rating\n",
       "0  633dc3b4f611a788116b43d8         0           0         0     NaN\n",
       "1  633dc52cf611a788116b43dc         0           0         0     NaN\n",
       "2  633dd3e4f611a788116b43e7         0           0         0     NaN\n",
       "3  6354e362c834f95698ef0221         0           0         0     NaN\n",
       "4  6354ebb6c834f95698ef02ca         0           0         0     NaN\n",
       "5  6354ec56c834f95698ef02cd         0           0         0     NaN\n",
       "6  637a48a12d686b1096842328         0           0         0     NaN"
      ]
     },
     "execution_count": 57,
     "metadata": {},
     "output_type": "execute_result"
    }
   ],
   "source": [
    "import pandas as pd\n",
    "import numpy as np\n",
    "from pymongo import MongoClient\n",
    "import datetime as dt\n",
    "date = dt.datetime.now(dt.timezone.utc)\n",
    "date = dt.datetime(date.year, date.month, date.day) - dt.timedelta(days=30)\n",
    "\n",
    "client = MongoClient('mongodb://localhost:27017/')\n",
    "db = client['movie-web']\n",
    "col_movies = db.movies\n",
    "cur_movies = col_movies.find({}, {'_id': 1})\n",
    "col_countviews = db.countviews\n",
    "cur_countviews = col_countviews.find({'createdAt': { '$gte': date }}, {'movie': 1, '_id': 0})\n",
    "col_comments = db.comments\n",
    "cur_comments = col_comments.find({'createdAt': { '$gte': date }}, {'movie': 1, '_id': 0})\n",
    "col_userratings = db.userratings\n",
    "cur_userratings = col_userratings.find({'createdAt': { '$gte': date }}, {'movie': 1, 'rating': 1, '_id': 0})\n",
    "list_movies = []\n",
    "list_comments = []\n",
    "list_countviews = []\n",
    "list_userratings = []\n",
    "for i in cur_movies:\n",
    "    list_movies.append(i)\n",
    "for i in cur_comments:\n",
    "    list_comments.append(i)\n",
    "for i in cur_countviews:\n",
    "    list_countviews.append(i)\n",
    "for i in cur_userratings:\n",
    "    list_userratings.append(i)\n",
    "    \n",
    "movies = pd.DataFrame(list_movies)\n",
    "comments = pd.DataFrame(list_comments, columns=['movie'])\n",
    "countviews = pd.DataFrame(list_countviews, columns=['movie'])\n",
    "userratings = pd.DataFrame(list_userratings, columns=['movie', 'rating'])\n",
    "comments\n",
    "df = pd.merge(movies, comments,left_on='_id', right_on='movie', how='left').rename(columns={\"movie\": \"comments\"})\n",
    "df = df.groupby('_id').agg({'comments': 'count'}).reset_index()\n",
    "df = pd.merge(df, countviews, left_on='_id', right_on='movie', how='left').rename(columns={\"movie\": \"countviews\"})\n",
    "df = df.groupby('_id').agg({'comments': 'first',\n",
    "                            'countviews': 'count'}).reset_index()\n",
    "df = pd.merge(df, userratings, left_on='_id', right_on='movie', how='left').rename(columns={\"movie\": \"numRates\"})\n",
    "df = df.groupby('_id').agg({'comments': 'first',\n",
    "                            'countviews': 'first',\n",
    "                            'numRates': 'count',\n",
    "                            'rating': 'mean'\n",
    "                             }).reset_index()\n",
    "df\n"
   ]
  },
  {
   "cell_type": "code",
   "execution_count": 39,
   "id": "1e5a0ce5",
   "metadata": {},
   "outputs": [
    {
     "name": "stdout",
     "output_type": "stream",
     "text": [
      "2022-11-15 00:00:00\n"
     ]
    }
   ],
   "source": [
    "import datetime as dt\n",
    "date = dt.datetime.now(dt.timezone.utc)\n",
    "d = dt.datetime(date.year, date.month, date.day) - dt.timedelta(days=30)\n",
    "print(d)"
   ]
  },
  {
   "cell_type": "code",
   "execution_count": null,
   "id": "140c0d00",
   "metadata": {},
   "outputs": [],
   "source": []
  }
 ],
 "metadata": {
  "kernelspec": {
   "display_name": "Python 3 (ipykernel)",
   "language": "python",
   "name": "python3"
  },
  "language_info": {
   "codemirror_mode": {
    "name": "ipython",
    "version": 3
   },
   "file_extension": ".py",
   "mimetype": "text/x-python",
   "name": "python",
   "nbconvert_exporter": "python",
   "pygments_lexer": "ipython3",
   "version": "3.10.2"
  },
  "vscode": {
   "interpreter": {
    "hash": "f79b14984c74d12fd82b628d7d6156f048cec01f8eaaaf40127a1d42b817b9d8"
   }
  }
 },
 "nbformat": 4,
 "nbformat_minor": 5
}
